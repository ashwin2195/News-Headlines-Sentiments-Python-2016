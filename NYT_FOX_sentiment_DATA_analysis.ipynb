{
 "cells": [
  {
   "cell_type": "markdown",
   "metadata": {},
   "source": [
    "# Data Analysis for the New York Times and Fox News Headlines Sentiments"
   ]
  },
  {
   "cell_type": "markdown",
   "metadata": {},
   "source": [
    "Developed by Dr. Maria P. Frushicheva @ MIT"
   ]
  },
  {
   "cell_type": "code",
   "execution_count": 1,
   "metadata": {
    "collapsed": false
   },
   "outputs": [
    {
     "name": "stderr",
     "output_type": "stream",
     "text": [
      ":0: FutureWarning: IPython widgets are experimental and may change in the future.\n"
     ]
    }
   ],
   "source": [
    "import pandas as pd\n",
    "import numpy as np\n",
    "import matplotlib.pyplot as plt\n",
    "%matplotlib inline\n",
    "import seaborn as sns\n",
    "from pylab import *\n",
    "import csv\n",
    "import datetime\n",
    "from matplotlib import dates\n",
    "import matplotlib.dates as mdates\n",
    "sns.set_style(\"whitegrid\")"
   ]
  },
  {
   "cell_type": "markdown",
   "metadata": {
    "collapsed": true
   },
   "source": [
    "## Data Analysis of NYT News: Data collected from 07/28/2016 till 08/17/2016"
   ]
  },
  {
   "cell_type": "markdown",
   "metadata": {},
   "source": [
    "### Clinton NYT Data"
   ]
  },
  {
   "cell_type": "code",
   "execution_count": 2,
   "metadata": {
    "collapsed": false
   },
   "outputs": [
    {
     "data": {
      "text/plain": [
       "(1778, 2)"
      ]
     },
     "execution_count": 2,
     "metadata": {},
     "output_type": "execute_result"
    }
   ],
   "source": [
    "df1_clinton_nyt = pd.read_csv('clinton_nyt_07282016.csv',header=None)\n",
    "df2_clinton_nyt = pd.read_csv('clinton_nyt_08032016.csv',header=None)\n",
    "df3_clinton_nyt = pd.read_csv('clinton_nyt_08172016.csv',header=None)\n",
    "clinton_nyt_frames = [df1_clinton_nyt, df2_clinton_nyt,df3_clinton_nyt]\n",
    "df_all_clinton_nyt = pd.concat(clinton_nyt_frames)\n",
    "df_all_clinton_nyt.columns = ['date', 'sent']\n",
    "df_all_clinton_nyt.date = pd.to_datetime(df_all_clinton_nyt.date, format='%Y-%m-%d %H:%M')\n",
    "df_clinton_nyt_sorted = df_all_clinton_nyt.sort(columns='date')\n",
    "df_all_clinton_nyt.shape\n",
    "#plt.plot(df_all_clinton_nyt.sent,'b',linewidth=2.0) # plot for Clinton"
   ]
  },
  {
   "cell_type": "code",
   "execution_count": 3,
   "metadata": {
    "collapsed": false
   },
   "outputs": [
    {
     "data": {
      "text/html": [
       "<div>\n",
       "<table border=\"1\" class=\"dataframe\">\n",
       "  <thead>\n",
       "    <tr style=\"text-align: right;\">\n",
       "      <th></th>\n",
       "      <th>sent</th>\n",
       "    </tr>\n",
       "  </thead>\n",
       "  <tbody>\n",
       "    <tr>\n",
       "      <th>count</th>\n",
       "      <td>1778.000000</td>\n",
       "    </tr>\n",
       "    <tr>\n",
       "      <th>mean</th>\n",
       "      <td>0.039470</td>\n",
       "    </tr>\n",
       "    <tr>\n",
       "      <th>std</th>\n",
       "      <td>0.250781</td>\n",
       "    </tr>\n",
       "    <tr>\n",
       "      <th>min</th>\n",
       "      <td>-1.000000</td>\n",
       "    </tr>\n",
       "    <tr>\n",
       "      <th>25%</th>\n",
       "      <td>0.000000</td>\n",
       "    </tr>\n",
       "    <tr>\n",
       "      <th>50%</th>\n",
       "      <td>0.000000</td>\n",
       "    </tr>\n",
       "    <tr>\n",
       "      <th>75%</th>\n",
       "      <td>0.000000</td>\n",
       "    </tr>\n",
       "    <tr>\n",
       "      <th>max</th>\n",
       "      <td>0.900000</td>\n",
       "    </tr>\n",
       "  </tbody>\n",
       "</table>\n",
       "</div>"
      ],
      "text/plain": [
       "              sent\n",
       "count  1778.000000\n",
       "mean      0.039470\n",
       "std       0.250781\n",
       "min      -1.000000\n",
       "25%       0.000000\n",
       "50%       0.000000\n",
       "75%       0.000000\n",
       "max       0.900000"
      ]
     },
     "execution_count": 3,
     "metadata": {},
     "output_type": "execute_result"
    }
   ],
   "source": [
    "df_all_clinton_nyt.describe()"
   ]
  },
  {
   "cell_type": "markdown",
   "metadata": {},
   "source": [
    "### Trump NYT Data"
   ]
  },
  {
   "cell_type": "code",
   "execution_count": 4,
   "metadata": {
    "collapsed": false
   },
   "outputs": [
    {
     "data": {
      "text/plain": [
       "(1780, 2)"
      ]
     },
     "execution_count": 4,
     "metadata": {},
     "output_type": "execute_result"
    }
   ],
   "source": [
    "df1_trump_nyt = pd.read_csv('trump_nyt_07282016.csv',header=None)\n",
    "df2_trump_nyt = pd.read_csv('trump_nyt_08032016.csv',header=None)\n",
    "df3_trump_nyt = pd.read_csv('trump_nyt_08172016.csv',header=None)\n",
    "trump_nyt_frames = [df1_trump_nyt, df2_trump_nyt,df3_trump_nyt]\n",
    "df_all_trump_nyt = pd.concat(trump_nyt_frames)\n",
    "df_all_trump_nyt.columns = ['date', 'sent']\n",
    "df_all_trump_nyt.date = pd.to_datetime(df_all_trump_nyt.date, format='%Y-%m-%d %H:%M')\n",
    "df_trump_nyt_sorted = df_all_trump_nyt.sort(columns='date')\n",
    "df_all_trump_nyt.shape"
   ]
  },
  {
   "cell_type": "code",
   "execution_count": 5,
   "metadata": {
    "collapsed": false
   },
   "outputs": [
    {
     "data": {
      "text/html": [
       "<div>\n",
       "<table border=\"1\" class=\"dataframe\">\n",
       "  <thead>\n",
       "    <tr style=\"text-align: right;\">\n",
       "      <th></th>\n",
       "      <th>sent</th>\n",
       "    </tr>\n",
       "  </thead>\n",
       "  <tbody>\n",
       "    <tr>\n",
       "      <th>count</th>\n",
       "      <td>1780.000000</td>\n",
       "    </tr>\n",
       "    <tr>\n",
       "      <th>mean</th>\n",
       "      <td>-0.146131</td>\n",
       "    </tr>\n",
       "    <tr>\n",
       "      <th>std</th>\n",
       "      <td>0.443102</td>\n",
       "    </tr>\n",
       "    <tr>\n",
       "      <th>min</th>\n",
       "      <td>-2.200000</td>\n",
       "    </tr>\n",
       "    <tr>\n",
       "      <th>25%</th>\n",
       "      <td>-0.275000</td>\n",
       "    </tr>\n",
       "    <tr>\n",
       "      <th>50%</th>\n",
       "      <td>0.000000</td>\n",
       "    </tr>\n",
       "    <tr>\n",
       "      <th>75%</th>\n",
       "      <td>0.000000</td>\n",
       "    </tr>\n",
       "    <tr>\n",
       "      <th>max</th>\n",
       "      <td>1.000000</td>\n",
       "    </tr>\n",
       "  </tbody>\n",
       "</table>\n",
       "</div>"
      ],
      "text/plain": [
       "              sent\n",
       "count  1780.000000\n",
       "mean     -0.146131\n",
       "std       0.443102\n",
       "min      -2.200000\n",
       "25%      -0.275000\n",
       "50%       0.000000\n",
       "75%       0.000000\n",
       "max       1.000000"
      ]
     },
     "execution_count": 5,
     "metadata": {},
     "output_type": "execute_result"
    }
   ],
   "source": [
    "df_all_trump_nyt.describe()"
   ]
  },
  {
   "cell_type": "markdown",
   "metadata": {},
   "source": [
    "### Cumulative Distributions for Clinton's and Trump's Sentiments"
   ]
  },
  {
   "cell_type": "code",
   "execution_count": 6,
   "metadata": {
    "collapsed": false
   },
   "outputs": [
    {
     "name": "stderr",
     "output_type": "stream",
     "text": [
      "C:\\Users\\postdoc\\AppData\\Local\\Dato\\Dato Launcher\\lib\\site-packages\\scipy\\integrate\\quadpack.py:352: IntegrationWarning: The occurrence of roundoff error is detected, which prevents \n",
      "  the requested tolerance from being achieved.  The error may be \n",
      "  underestimated.\n",
      "  warnings.warn(msg, IntegrationWarning)\n"
     ]
    },
    {
     "data": {
      "text/plain": [
       "<matplotlib.legend.Legend at 0x17ee5978>"
      ]
     },
     "execution_count": 6,
     "metadata": {},
     "output_type": "execute_result"
    },
    {
     "data": {
      "image/png": "[encoded data removed]",
      "text/plain": [
       "<matplotlib.figure.Figure at 0x17dc3ac8>"
      ]
     },
     "metadata": {},
     "output_type": "display_data"
    }
   ],
   "source": [
    "sns.kdeplot(df_all_clinton_nyt.sent,cumulative=True,label=\"Clinton\")\n",
    "sns.kdeplot(df_all_trump_nyt.sent,cumulative=True,label=\"Trump\")\n",
    "plt.legend(loc=2)"
   ]
  },
  {
   "cell_type": "code",
   "execution_count": 7,
   "metadata": {
    "collapsed": false
   },
   "outputs": [
    {
     "data": {
      "text/plain": [
       "<matplotlib.legend.Legend at 0x18869278>"
      ]
     },
     "execution_count": 7,
     "metadata": {},
     "output_type": "execute_result"
    },
    {
     "data": {
      "image/png": "[encoded data removed]",
      "text/plain": [
       "<matplotlib.figure.Figure at 0x17dc3f60>"
      ]
     },
     "metadata": {},
     "output_type": "display_data"
    }
   ],
   "source": [
    "subplot(1,2,1)\n",
    "df_all_clinton_nyt.sent.hist(cumulative=True, normed=1, bins=100)\n",
    "plt.legend([\"Clinton\"],loc=2)\n",
    "subplot(1,2,2)\n",
    "df_all_trump_nyt.sent.hist(cumulative=True, normed=1, bins=100)\n",
    "plt.legend([\"Trump\"],loc=2)"
   ]
  },
  {
   "cell_type": "markdown",
   "metadata": {},
   "source": [
    "###  Histograms and Univariate Kernel Density Estimates for Clinton's and Trump's Sentiments"
   ]
  },
  {
   "cell_type": "code",
   "execution_count": null,
   "metadata": {
    "collapsed": false
   },
   "outputs": [
    {
     "data": {
      "text/plain": [
       "<matplotlib.legend.Legend at 0x1a70c978>"
      ]
     },
     "execution_count": 8,
     "metadata": {},
     "output_type": "execute_result"
    },
    {
     "data": {
      "image/png": "[encoded data removed]",
      "text/plain": [
       "<matplotlib.figure.Figure at 0x17dc3eb8>"
      ]
     },
     "metadata": {},
     "output_type": "display_data"
    }
   ],
   "source": [
    "subplot(1,2,1)\n",
    "sns.distplot(df_all_clinton_nyt.sent,color='r',label=\"Clinton\")\n",
    "plt.legend(loc=2)\n",
    "\n",
    "subplot(1,2,2)\n",
    "sns.distplot(df_all_trump_nyt.sent,color='b',label=\"Trump\")\n",
    "plt.legend(loc=2)"
   ]
  },
  {
   "cell_type": "code",
   "execution_count": null,
   "metadata": {
    "collapsed": false
   },
   "outputs": [],
   "source": [
    "sns.tsplot(data=df_clinton_nyt_sorted.sent,time=df_clinton_nyt_sorted.date,color='r',condition=\"Clinton\")\n",
    "sns.tsplot(data=df_trump_nyt_sorted.sent,time=df_trump_nyt_sorted.date,color='b',condition=\"Trump\")"
   ]
  },
  {
   "cell_type": "markdown",
   "metadata": {},
   "source": [
    "# Conclusion: Data shows that NYT news are in favor of Hillary Clinton. "
   ]
  },
  {
   "cell_type": "code",
   "execution_count": null,
   "metadata": {
    "collapsed": true
   },
   "outputs": [],
   "source": []
  },
  {
   "cell_type": "markdown",
   "metadata": {},
   "source": [
    "# Data Analysis of Fox News: Data collected from 07/28/2016 till 08/17/2016"
   ]
  },
  {
   "cell_type": "markdown",
   "metadata": {},
   "source": [
    "### Clinton Fox Data"
   ]
  },
  {
   "cell_type": "code",
   "execution_count": null,
   "metadata": {
    "collapsed": false
   },
   "outputs": [],
   "source": [
    "df1_clinton_fox = pd.read_csv('clinton_fox_07282016.csv',header=None)\n",
    "df2_clinton_fox = pd.read_csv('clinton_fox_08032016.csv',header=None)\n",
    "df3_clinton_fox = pd.read_csv('clinton_fox_08042016_m.csv',header=None)\n",
    "df4_clinton_fox = pd.read_csv('clinton_fox_08172016.csv',header=None)\n",
    "clinton_fox_frames = [df1_clinton_fox, df2_clinton_fox, df3_clinton_fox, df4_clinton_fox]\n",
    "df_all_clinton_fox = pd.concat(clinton_fox_frames)\n",
    "df_all_clinton_fox.columns = ['date', 'sent']\n",
    "df_all_clinton_fox.date = pd.to_datetime(df_all_clinton_fox.date, format='%Y-%m-%d %H:%M')\n",
    "df_clinton_fox_sorted = df_all_clinton_fox.sort(columns='date')\n",
    "df_all_clinton_fox.shape"
   ]
  },
  {
   "cell_type": "code",
   "execution_count": null,
   "metadata": {
    "collapsed": false
   },
   "outputs": [],
   "source": [
    "df_all_clinton_fox.describe()"
   ]
  },
  {
   "cell_type": "markdown",
   "metadata": {},
   "source": [
    "### Trump Fox Data"
   ]
  },
  {
   "cell_type": "code",
   "execution_count": null,
   "metadata": {
    "collapsed": false
   },
   "outputs": [],
   "source": [
    "df1_trump_fox = pd.read_csv('trump_fox_07282016.csv',header=None)\n",
    "df2_trump_fox = pd.read_csv('trump_fox_08032016.csv',header=None)\n",
    "df3_trump_fox = pd.read_csv('trump_fox_08042016_m.csv',header=None)\n",
    "df4_trump_fox = pd.read_csv('trump_fox_08172016.csv',header=None)\n",
    "trump_fox_frames = [df1_trump_fox, df2_trump_fox, df3_trump_fox, df4_trump_fox]\n",
    "df_all_trump_fox = pd.concat(trump_fox_frames)\n",
    "df_all_trump_fox.columns = ['date', 'sent']\n",
    "df_all_trump_fox.date = pd.to_datetime(df_all_trump_fox.date, format='%Y-%m-%d %H:%M')\n",
    "df_trump_fox_sorted = df_all_trump_fox.sort(columns='date')\n",
    "df_all_trump_fox.shape"
   ]
  },
  {
   "cell_type": "code",
   "execution_count": null,
   "metadata": {
    "collapsed": false
   },
   "outputs": [],
   "source": [
    "df_all_trump_fox.describe()"
   ]
  },
  {
   "cell_type": "markdown",
   "metadata": {},
   "source": [
    "### Cumulative Distributions for Clinton's and Trump's Sentiments"
   ]
  },
  {
   "cell_type": "code",
   "execution_count": null,
   "metadata": {
    "collapsed": false
   },
   "outputs": [],
   "source": [
    "sns.kdeplot(df_all_clinton_fox.sent,cumulative=True,label=\"Clinton\")\n",
    "sns.kdeplot(df_all_trump_fox.sent,cumulative=True,label=\"Trump\")\n",
    "plt.legend(loc=2)"
   ]
  },
  {
   "cell_type": "code",
   "execution_count": null,
   "metadata": {
    "collapsed": false
   },
   "outputs": [],
   "source": [
    "subplot(1,2,1)\n",
    "df_all_clinton_fox.sent.hist(cumulative=True, normed=1, bins=100)\n",
    "plt.legend([\"Clinton\"],loc=2)\n",
    "subplot(1,2,2)\n",
    "df_all_trump_fox.sent.hist(cumulative=True, normed=1, bins=100)\n",
    "plt.legend([\"Trump\"],loc=2)"
   ]
  },
  {
   "cell_type": "markdown",
   "metadata": {},
   "source": [
    "###  Histograms and Univariate Kernel Density Estimates for Clinton's and Trump's Sentiments"
   ]
  },
  {
   "cell_type": "code",
   "execution_count": null,
   "metadata": {
    "collapsed": false
   },
   "outputs": [],
   "source": [
    "subplot(1,2,1)\n",
    "sns.distplot(df_all_clinton_fox.sent,color='r',label=\"Clinton\")\n",
    "plt.legend(loc=2)\n",
    "\n",
    "subplot(1,2,2)\n",
    "sns.distplot(df_all_trump_fox.sent,color='b',label=\"Trump\")\n",
    "plt.legend(loc=2)"
   ]
  },
  {
   "cell_type": "code",
   "execution_count": null,
   "metadata": {
    "collapsed": false
   },
   "outputs": [],
   "source": [
    "fig, ax = plt.subplots()\n",
    "sns.tsplot(data=df_clinton_fox_sorted.sent,time=df_clinton_fox_sorted.date,color='r',condition=\"Clinton\")\n",
    "sns.tsplot(data=df_trump_fox_sorted.sent,time=df_trump_fox_sorted.date,color='b',condition=\"Trump\")"
   ]
  },
  {
   "cell_type": "markdown",
   "metadata": {
    "collapsed": true
   },
   "source": [
    "# Conclusion: Data shows that Fox news are unbiased. "
   ]
  },
  {
   "cell_type": "code",
   "execution_count": null,
   "metadata": {
    "collapsed": true
   },
   "outputs": [],
   "source": []
  }
 ],
 "metadata": {
  "kernelspec": {
   "display_name": "Python 2",
   "language": "python",
   "name": "python2"
  },
  "language_info": {
   "codemirror_mode": {
    "name": "ipython",
    "version": 2
   },
   "file_extension": ".py",
   "mimetype": "text/x-python",
   "name": "python",
   "nbconvert_exporter": "python",
   "pygments_lexer": "ipython2",
   "version": "2.7.10"
  }
 },
 "nbformat": 4,
 "nbformat_minor": 0
}
