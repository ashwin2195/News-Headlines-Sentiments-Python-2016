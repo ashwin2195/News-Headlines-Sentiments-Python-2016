{
 "cells": [
  {
   "cell_type": "markdown",
   "metadata": {},
   "source": [
    "# The New York Times and Fox News Headlines Sentiment Analysis"
   ]
  },
  {
   "cell_type": "markdown",
   "metadata": {},
   "source": [
    "### For sentiment analysis you need to install textbolb module with conda from [textblob](http://textblob.readthedocs.io/en/dev/install.html). Run program with apscheduler, install from from [apscheduler](http://apscheduler.readthedocs.io/en/latest/userguide.html#installing-apscheduler). \n",
    "\n",
    "Developed by Dr. Maria P. Frushicheva @ MIT"
   ]
  },
  {
   "cell_type": "markdown",
   "metadata": {},
   "source": [
    "# NYT News"
   ]
  },
  {
   "cell_type": "code",
   "execution_count": 66,
   "metadata": {
    "collapsed": false
   },
   "outputs": [],
   "source": [
    "trump_nyt = {}\n",
    "clinton_nyt = {}\n",
    "\n",
    "def nyt():\n",
    "    \n",
    "    # install libraries\n",
    "    from textblob import TextBlob\n",
    "    import datetime\n",
    "    from bs4 import BeautifulSoup\n",
    "    import urllib2\n",
    "    import re\n",
    "    \n",
    "    # store current date and time\n",
    "    now = datetime.datetime.now()\n",
    "\n",
    "    # get headlines from NYT website\n",
    "    def nyt_news():\n",
    "        url = 'http://www.nytimes.com/'\n",
    "        html = urllib2.urlopen(url)\n",
    "        soup = BeautifulSoup(html,\"lxml\")\n",
    "        my_search = soup.find_all(re.compile(\"h\"),class_=re.compile(\"story-heading\"))\n",
    "        headlines=[]\n",
    "\n",
    "        for link in my_search:\n",
    "            try:\n",
    "                if link.string == None:\n",
    "                    pass\n",
    "                else:\n",
    "                    headline = link.string.strip().encode('ascii','ignore')\n",
    "                    headlines.append(headline)\n",
    "                    #print headline\n",
    "            except:\n",
    "                pass\n",
    "        #print headlines\n",
    "\n",
    "        # sentiment analysis    \n",
    "        trump_sent = 0\n",
    "        clinton_sent = 0\n",
    "\n",
    "        for headline in headlines:\n",
    "            trump = re.search(\"Trump\",headline)\n",
    "            clinton = re.search(\"Clinton\",headline)\n",
    "            if trump:\n",
    "                sent = TextBlob(headline).sentiment.polarity        \n",
    "                trump_sent = trump_sent + sent\n",
    "                #print sent, headline\n",
    "            if clinton:\n",
    "                sent = TextBlob(headline).sentiment.polarity\n",
    "                clinton_sent = clinton_sent + sent\n",
    "                #print sent, headline\n",
    "\n",
    "        #print \"Current date and time: \", now.strftime(\"%Y-%m-%d %H:%M\")\n",
    "        #print \"Trump sentiment:\", round(trump_sent,2)\n",
    "        #print \"Clinton sentiment:\", round(clinton_sent,2)\n",
    "    \n",
    "        return trump_sent, clinton_sent\n",
    "\n",
    "    \n",
    "    # store data in trump and clinton dictionaries\n",
    "    def nyt_news_collect():\n",
    "        trump_nyt[now.strftime(\"%Y-%m-%d %H:%M\")] = nyt_news()[0]# trump_sent\n",
    "        clinton_nyt[now.strftime(\"%Y-%m-%d %H:%M\")] = nyt_news()[1] # clinton_sent\n",
    "        return trump_nyt, clinton_nyt\n",
    "    \n",
    "    return nyt_news_collect()"
   ]
  },
  {
   "cell_type": "code",
   "execution_count": 68,
   "metadata": {
    "collapsed": false
   },
   "outputs": [],
   "source": [
    "# run apscheduler\n",
    "from apscheduler.schedulers.background import BackgroundScheduler\n",
    "scheduler = BackgroundScheduler() # BlockingScheduler()\n",
    "scheduler.add_job(nyt, 'interval', minutes=1) #seconds=10) # minutes=2) #hours=1)\n",
    "scheduler.start() # start the scheduler"
   ]
  },
  {
   "cell_type": "code",
   "execution_count": 160,
   "metadata": {
    "collapsed": false
   },
   "outputs": [],
   "source": [
    "scheduler.shutdown() # stop the scheduler"
   ]
  },
  {
   "cell_type": "code",
   "execution_count": 178,
   "metadata": {
    "collapsed": false
   },
   "outputs": [],
   "source": [
    "nyt() # check results"
   ]
  },
  {
   "cell_type": "code",
   "execution_count": 176,
   "metadata": {
    "collapsed": false
   },
   "outputs": [],
   "source": [
    "# write trump and clinton data in csv files\n",
    "import csv\n",
    "\n",
    "trump_dict_nyt= nyt()[0]\n",
    "clinton_dict_nyt = nyt()[1]\n",
    "   \n",
    "fh=open(\"trump_nyt.csv\",'wb')\n",
    "wr=csv.writer(fh,dialect='excel')\n",
    "for item in trump_dict_nyt:\n",
    "    wr.writerow([item,trump_dict_nyt[item]])\n",
    "fh.close()   \n",
    "\n",
    "fh=open(\"clinton_nyt.csv\",'wb')\n",
    "wr=csv.writer(fh,dialect='excel')\n",
    "for item in clinton_dict_nyt:\n",
    "    wr.writerow([item,clinton_dict_nyt[item]])\n",
    "fh.close()  "
   ]
  },
  {
   "cell_type": "code",
   "execution_count": 177,
   "metadata": {
    "collapsed": false
   },
   "outputs": [
    {
     "data": {
      "image/png": "[encoded data removed]",
      "text/plain": [
       "<matplotlib.figure.Figure at 0x1ba5c0f0>"
      ]
     },
     "metadata": {},
     "output_type": "display_data"
    }
   ],
   "source": [
    "# plot results\n",
    "import datetime\n",
    "import matplotlib.pyplot as plt \n",
    "%matplotlib inline\n",
    "from matplotlib import dates\n",
    "\n",
    "trump_dict_nyt= nyt()[0]\n",
    "clinton_dict_nyt = nyt()[1]\n",
    "\n",
    "y_trump = trump_dict_nyt.values()\n",
    "y_clinton = clinton_dict_nyt.values()\n",
    "\n",
    "y_min=min(min(y_trump,y_clinton))-0.5\n",
    "y_max=max(max(y_trump,y_clinton))+0.5\n",
    "\n",
    "x=[] # set up x-axis\n",
    "for key in trump_dict_nyt.keys():\n",
    "    time=datetime.datetime.strptime(key, \"%Y-%m-%d %H:%M\")\n",
    "    x.append(time)\n",
    "x.sort()\n",
    "x_format=dates.DateFormatter('%m/%d %H:%M')\n",
    "    \n",
    "fig = plt.figure()\n",
    "ax = fig.add_subplot(111)\n",
    "plt.plot(x,y_trump,'k',linewidth=2.0) # plot for Trump \n",
    "plt.plot(x,y_clinton,'b',linewidth=2.0) # plot for Clinton\n",
    "plt.title('The New York Times: Sentiment vs. Date')\n",
    "plt.xlabel('Date')\n",
    "plt.ylabel('Sentiment')\n",
    "plt.legend(['Trump','Clinton'],bbox_to_anchor=(1.05,1),loc=2,borderaxespad=0.)\n",
    "plt.axis([None,None,y_min,y_max])\n",
    "plt.xticks(rotation=45)\n",
    "ax.xaxis.set_major_formatter(x_format)\n",
    "plt.grid(True)\n",
    "plt.show()"
   ]
  },
  {
   "cell_type": "code",
   "execution_count": null,
   "metadata": {
    "collapsed": true
   },
   "outputs": [],
   "source": []
  },
  {
   "cell_type": "markdown",
   "metadata": {},
   "source": [
    "# Fox News"
   ]
  },
  {
   "cell_type": "code",
   "execution_count": 134,
   "metadata": {
    "collapsed": true
   },
   "outputs": [],
   "source": [
    "trump_fox = {}\n",
    "clinton_fox = {}\n",
    "\n",
    "def fox():\n",
    "    \n",
    "    # install libraries\n",
    "    from textblob import TextBlob\n",
    "    import datetime\n",
    "    from bs4 import BeautifulSoup\n",
    "    import urllib2\n",
    "    import re\n",
    "    \n",
    "    # store current date and time\n",
    "    now = datetime.datetime.now()\n",
    "\n",
    "    # get headlines from Fox News website\n",
    "    def fox_news():\n",
    "        url = 'http://www.foxnews.com/'\n",
    "        html = urllib2.urlopen(url)\n",
    "        soup = BeautifulSoup(html,\"lxml\")\n",
    "        my_search = soup.find_all([re.compile(\"^h\"),\"a\"])\n",
    "        headlines=[]\n",
    "\n",
    "        for link in my_search:\n",
    "            try:\n",
    "                if link.string == None:\n",
    "                    pass\n",
    "                else:\n",
    "                    headline = link.string.strip().encode('ascii','ignore')\n",
    "                    headlines.append(headline)\n",
    "                    #print headline\n",
    "            except:\n",
    "                pass\n",
    "        #print headlines\n",
    "\n",
    "        # sentiment analysis    \n",
    "        trump_sent = 0\n",
    "        clinton_sent = 0\n",
    "\n",
    "        for headline in headlines:\n",
    "            trump = re.search(\"Trump\",headline)\n",
    "            clinton = re.search(\"Clinton\",headline)\n",
    "            if trump:\n",
    "                sent = TextBlob(headline).sentiment.polarity        \n",
    "                trump_sent = trump_sent + sent\n",
    "                #print sent, headline\n",
    "            if clinton:\n",
    "                sent = TextBlob(headline).sentiment.polarity\n",
    "                clinton_sent = clinton_sent + sent\n",
    "                #print sent, headline\n",
    "\n",
    "        #print \"Current date and time: \", now.strftime(\"%Y-%m-%d %H:%M\")\n",
    "        #print \"Trump sentiment:\", round(trump_sent,2)\n",
    "        #print \"Clinton sentiment:\", round(clinton_sent,2)\n",
    "    \n",
    "        return trump_sent, clinton_sent\n",
    "\n",
    "    \n",
    "    # store data in trump and clinton dictionaries\n",
    "    def fox_news_collect():\n",
    "        trump_fox[now.strftime(\"%Y-%m-%d %H:%M\")] = fox_news()[0]# trump_sent\n",
    "        clinton_fox[now.strftime(\"%Y-%m-%d %H:%M\")] = fox_news()[1] # clinton_sent\n",
    "        return trump_fox, clinton_fox\n",
    "    \n",
    "    return fox_news_collect()"
   ]
  },
  {
   "cell_type": "code",
   "execution_count": 135,
   "metadata": {
    "collapsed": true
   },
   "outputs": [],
   "source": [
    "# run apscheduler\n",
    "from apscheduler.schedulers.background import BackgroundScheduler\n",
    "scheduler = BackgroundScheduler() # BlockingScheduler()\n",
    "scheduler.add_job(fox, 'interval', minutes=1) #seconds=10) # minutes=2) #hours=1)\n",
    "scheduler.start() # start the scheduler"
   ]
  },
  {
   "cell_type": "code",
   "execution_count": 161,
   "metadata": {
    "collapsed": false
   },
   "outputs": [],
   "source": [
    "scheduler.shutdown() # stop the scheduler"
   ]
  },
  {
   "cell_type": "code",
   "execution_count": 172,
   "metadata": {
    "collapsed": false
   },
   "outputs": [],
   "source": [
    "fox() # check results"
   ]
  },
  {
   "cell_type": "code",
   "execution_count": 167,
   "metadata": {
    "collapsed": true
   },
   "outputs": [],
   "source": [
    "# write trump and clinton data in csv files\n",
    "import csv\n",
    "\n",
    "trump_dict_fox= fox()[0]\n",
    "clinton_dict_fox = fox()[1]\n",
    "   \n",
    "fh=open(\"trump_fox.csv\",'wb')\n",
    "wr=csv.writer(fh,dialect='excel')\n",
    "for item in trump_dict_fox:\n",
    "    wr.writerow([item,trump_dict_fox[item]])\n",
    "fh.close()   \n",
    "\n",
    "fh=open(\"clinton_fox.csv\",'wb')\n",
    "wr=csv.writer(fh,dialect='excel')\n",
    "for item in clinton_dict_fox:\n",
    "    wr.writerow([item,clinton_dict_fox[item]])\n",
    "fh.close()  "
   ]
  },
  {
   "cell_type": "code",
   "execution_count": 179,
   "metadata": {
    "collapsed": false
   },
   "outputs": [
    {
     "data": {
      "image/png": "[encoded data removed]",
      "text/plain": [
       "<matplotlib.figure.Figure at 0x1bc2c550>"
      ]
     },
     "metadata": {},
     "output_type": "display_data"
    }
   ],
   "source": [
    "# plot results\n",
    "import datetime\n",
    "import matplotlib.pyplot as plt \n",
    "%matplotlib inline\n",
    "from matplotlib import dates\n",
    "\n",
    "trump_dict_fox= fox()[0]\n",
    "clinton_dict_fox = fox()[1]\n",
    "\n",
    "y_trump = trump_dict_fox.values()\n",
    "y_clinton = clinton_dict_fox.values()\n",
    "\n",
    "y_min=min(min(y_trump,y_clinton))-0.5\n",
    "y_max=max(max(y_trump,y_clinton))+0.5\n",
    "\n",
    "x=[] # set up x-axis\n",
    "for key in trump_dict_fox.keys():\n",
    "    time=datetime.datetime.strptime(key, \"%Y-%m-%d %H:%M\")\n",
    "    x.append(time)\n",
    "x.sort()\n",
    "x_format=dates.DateFormatter('%m/%d %H:%M')\n",
    "    \n",
    "fig = plt.figure()\n",
    "ax = fig.add_subplot(111)\n",
    "plt.plot(x,y_trump,'k',linewidth=2.0) # plot for Trump \n",
    "plt.plot(x,y_clinton,'b',linewidth=2.0) # plot for Clinton\n",
    "plt.title('Fox News: Sentiment vs. Date')\n",
    "plt.xlabel('Date')\n",
    "plt.ylabel('Sentiment')\n",
    "plt.legend(['Trump','Clinton'],bbox_to_anchor=(1.05,1),loc=2,borderaxespad=0.)\n",
    "plt.axis([None,None,y_min,y_max])\n",
    "plt.xticks(rotation=45)\n",
    "ax.xaxis.set_major_formatter(x_format)\n",
    "plt.grid(True)\n",
    "plt.show()"
   ]
  },
  {
   "cell_type": "code",
   "execution_count": null,
   "metadata": {
    "collapsed": true
   },
   "outputs": [],
   "source": []
  }
 ],
 "metadata": {
  "kernelspec": {
   "display_name": "Python 2",
   "language": "python",
   "name": "python2"
  },
  "language_info": {
   "codemirror_mode": {
    "name": "ipython",
    "version": 2
   },
   "file_extension": ".py",
   "mimetype": "text/x-python",
   "name": "python",
   "nbconvert_exporter": "python",
   "pygments_lexer": "ipython2",
   "version": "2.7.10"
  }
 },
 "nbformat": 4,
 "nbformat_minor": 0
}
