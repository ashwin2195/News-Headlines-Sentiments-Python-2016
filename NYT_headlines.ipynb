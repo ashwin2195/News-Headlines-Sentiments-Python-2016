{
 "cells": [
  {
   "cell_type": "markdown",
   "metadata": {},
   "source": [
    "## The New York Times Headlines\n",
    "\n",
    "Developed by Dr. Maria P. Frushicheva @ MIT\n"
   ]
  },
  {
   "cell_type": "code",
   "execution_count": 1,
   "metadata": {
    "collapsed": false
   },
   "outputs": [
    {
     "name": "stdout",
     "output_type": "stream",
     "text": [
      "Nomination Claimed and a Barrier Falls\n",
      "Clinton Asks Not for Trust, but for Faith in Her Competence\n",
      "For Trump and Bloomberg, Cordial Ties Have Soured\n",
      "Fallen Soldiers Father Speaks\n",
      "Father to Trump: Youve Sacrificed Nothing\n",
      "Clinton Makes History\n",
      "Writing Her Own History\n",
      "Bernies Movement Moves On\n",
      "Seeking Faith of Voters\n",
      "Day 4 Takeaways: Over? Shes Just Starting\n",
      "Democrats Eager to Woo Those Wary of Trump\n",
      "Emotions Divide Democrats but May Still Conquer\n",
      "Women See a Female President Lifting Them All\n",
      "Weak Spending by Businesses Hinders 2nd-Quarter Growth\n",
      "Zika Cases Are Tied to Local Mosquitoes; 1st in Mainland U.S.\n",
      "Is a Police Shooting a Crime? It Depends on Officers Viewpoint\n",
      "Your Friday Briefing\n",
      "Does Skipping Breakfast Cause Weight Gain?\n",
      "9 New Books Times Editors Think You Should Read\n",
      "A Voiceless Man Whose Spirit Spoke Volumes\n",
      "Art of the AIDS Years: What Took Museums So Long?\n",
      "Armed Man in a Dress Robs a Staten Island Bank\n",
      "Donald Trumps Itchy Twitter Fingers\n",
      "If Clinton Is Elected, What Should She Do With Bill?\n",
      "A 7-Year-Old Walks Into a Stand-Up Club ...\n",
      "An Ex-President in the White House\n",
      "Crossing Paths: A Baby and His Grandfather\n",
      "Assignment: Hang With the Cabana Boys\n",
      "Op-Ed: The Vaticans Holocaust Secrets\n",
      "Lens: The Week in Pictures\n",
      "The Misfits of Suicide Squad\n",
      "Op-Ed: Sweating Under the Heat Dome\n",
      "George Gallup, and the Pulse of Democracy\n",
      "Interactive Feature: The Human Toll of Terror\n",
      "Is Hillary Clinton a Victim of Her Own Success?\n",
      "Review: Radiohead Revels in Key of Dread\n",
      "Afghan Forces Fail to Turn Back Taliban Gains\n",
      "Weak Spending by Businesses Hinders 2nd-Quarter Growth\n",
      "David Brooks: The Democrats Win the Summer\n",
      "Hillary Clinton Warns of Moment of Reckoning in Speech Accepting Nomination\n",
      "Google Silences Doubters With Blockbuster Quarter\n",
      "Art Review: Art of the AIDS Years: What Took Museums So Long?\n",
      "Is This the Spokesperson in Chief You Want?\n",
      "Ralph Lauren Gets Ready to Electrify the Olympics\n",
      "Wholl Save the World? Maybe the Misfits of Suicide Squad\n",
      "New York Today: New York Today: A Wave of Whales\n",
      "NFL Fans: This Is the Year for Your Team! (No It Isnt.)\n",
      "Where It Happens: How Scalpers Make Their Millions With Hamilton\n",
      "Seattle, With Its Needle, Is Turning Into a Space Center\n",
      "Denis Dubourdieu, Who Elevated Bordeaux White Wines, Dies at 67\n",
      "Stephen Colbert Retires Stephen Colbert. Please Welcome Stephen Colbert.\n",
      "Florida Confirms First Cases of Zika Likely Spread by Mosquitoes in Continental U.S.\n",
      "36 Hours: 36 Hours in Portland, Me.\n",
      "Books of The Times: Review: Zika Tracks the Trajectory of an Epidemic\n",
      "A Prized Stettheimer Painting, Sold Under the Radar by a University\n",
      "A Good Appetite: A Shortcut to Buttery Homemade Puff Pastry\n",
      "Gail Collins: Behind Hillarys Mask\n",
      "When Friends Buy a Home Together\n",
      "Where It Happens: How Scalpers Make Their Millions With Hamilton\n",
      "Who Is Polluting Rios Bay?\n",
      "Wheels: At Pebble Beach, Where Rare Is Common, a Shelby Cobra Stands Out\n",
      "Playful Mens Bathing Suits, for On or Off the Beach\n",
      "1916 | Abhors War, Wins Elections, Whips Up Lemon Meringue\n",
      "$835,000 Homes in Dallas, North Carolina, and New York State\n",
      "Search for Homes for Sale or Rent\n",
      "Sell Your Home\n"
     ]
    }
   ],
   "source": [
    "from bs4 import BeautifulSoup\n",
    "import urllib2\n",
    "import re\n",
    "\n",
    "url = 'http://www.nytimes.com/'\n",
    "html = urllib2.urlopen(url)\n",
    "soup = BeautifulSoup(html,\"lxml\")\n",
    "my_search = soup.find_all(re.compile(\"h\"),class_=re.compile(\"story-heading\"))\n",
    "headlines=[]\n",
    "\n",
    "for link in my_search:\n",
    "    try:\n",
    "        if link.string == None:\n",
    "            pass\n",
    "        else:\n",
    "            print link.string.strip().encode('ascii','ignore')\n",
    "    except:\n",
    "        pass"
   ]
  },
  {
   "cell_type": "code",
   "execution_count": null,
   "metadata": {
    "collapsed": true
   },
   "outputs": [],
   "source": []
  }
 ],
 "metadata": {
  "kernelspec": {
   "display_name": "Python 2",
   "language": "python",
   "name": "python2"
  },
  "language_info": {
   "codemirror_mode": {
    "name": "ipython",
    "version": 2
   },
   "file_extension": ".py",
   "mimetype": "text/x-python",
   "name": "python",
   "nbconvert_exporter": "python",
   "pygments_lexer": "ipython2",
   "version": "2.7.10"
  }
 },
 "nbformat": 4,
 "nbformat_minor": 0
}

