{
 "cells": [
  {
   "cell_type": "markdown",
   "metadata": {},
   "source": [
    "## The New York Times Headlines"
   ]
  },
  {
   "cell_type": "code",
   "execution_count": 3,
   "metadata": {
    "collapsed": false
   },
   "outputs": [
    {
     "name": "stdout",
     "output_type": "stream",
     "text": [
      "Trump Calls for Russia’s Help to Expose Emails Clinton Deleted\n",
      "Trump’s Comments on Russia\n",
      "Bill Clinton Praises His Wife’s Feminine Side\n",
      "Bill Clinton Offers Personal Tales of Hillary\n",
      "Threat to Legacy Gives Obama Motive to Stump for Clinton\n",
      "Democrats Also Find Unity Elusive Amid U.S. Divisions\n",
      "All Charges Dropped Against Officers in Freddie Gray Case\n",
      "At World’s Largest Hedge Fund, a ‘Cauldron of Fear’\n",
      "Program Claiming to Curb Youth Football Concussions Didn’t\n",
      "Why You Should Get That Ankle Sprain Checked Out\n",
      "Practically Magical 3-Ingredient Recipes\n",
      "The Lives Cut Short by Terrorism Over 2 Weeks\n",
      "Man Who Tried to Kill Reagan Will Be Released\n",
      "The Same Healthy Food, but It’s Cheaper Across Town\n",
      "Zimbabwe Vice President Runs Up a Lavish Hotel Bill\n",
      "In Williamsburg, Pondering Life Without the L Train\n",
      "Hillary Clinton’s Convention: Day 3\n",
      "Tim Kaine’s Disappearing Catholic Politics\n",
      "Incandescent With Rage\n",
      "Where Diversity Is Not a Dirty Word\n",
      "The Star-Spangled Convention\n",
      "Online Brands Reshape Retail Landscape\n",
      "Op-Ed: Prostate Cancer Isn’t Colorblind\n",
      "Into Corsica, From Rustic Villages to Stony Cliffs\n",
      "Searching for Missing Students in Mexico\n",
      "The Third-Party Effect\n",
      "$1 Billion for Dollar Shave Club\n",
      "Review: In ‘Nerve,’ a Shy Girl’s Internet Seduction\n",
      "Op-Ed: The Trumpian Dreams of Silicon Valley\n",
      "Getting the Lowdown on High Heels in China\n",
      "Review: Patricia Hearst’s Transformation\n",
      "Campaign Stops: Clinton’s Radical Promise\n",
      "Nederlander, Theater Magnate, Dies at 94\n",
      "Protesters Fume as Zimbabwe Vice President Runs Up a Hotel Bill\n",
      "Fed Suggests a Growing Chance That Rates Will Rise This year\n",
      "Thomas L. Friedman: Web People vs. Wall People\n",
      "Naloxone Saves Lives, but Is No Cure in Heroin Epidemic\n",
      "State of the Art: Brands Born Online, Reshaping the Retail Landscape\n",
      "Confessor. Feminist. Adult. What the Hell Happened to Howard Stern?\n",
      "What Donald Trump Said About Russian Hacking and Hillary Clinton’s Emails\n",
      "Modern Love: The Modern Love Podcast: Gaby Hoffmann Reads ‘Three Mothers, One Bond’\n",
      "Review: In ‘Jason Bourne,’ a Midlife Crisis for a Harried Former Assassin\n",
      "New York Police Embracing a Weapon They Have a Complicated Past With: Tasers\n",
      "N.F.L.-Backed Youth Program Says It Reduced Concussions. The Data Disagrees.\n",
      "Review: ‘Golem,’ a Visually Dazzling Fable for the Digital Age\n",
      "Jupiter’s Great Red Spot Is Also Very Hot\n",
      "Forrest E. Mars Jr., Scion of a Candy Empire, Dies at 84\n",
      "Critic's Notebook: Boos, Cheers and Talk Therapy for the Democrats in Philadelphia\n",
      "Well: Being Unfit May Be Almost as Bad for You as Smoking\n",
      "Frugal Traveler: A $1,000 Day in Moscow for $100\n",
      "Books of The Times: Review: ‘Landmarks,’ a Book on Language and Landscape\n",
      "A Prized Stettheimer Painting, Sold Under the Radar by a University\n",
      "When Will Food Issues Be on Politicians’ Plates?\n",
      "Gail Collins: Behind Hillary’s Mask\n",
      "Living In: On the Great Neck Peninsula, a Rich Blend of Many Cultures\n",
      "The 2016 Race: Donald Trump’s Path: What Map Should Democrats Fear the Most?\n",
      "Notebook: The Democrats (Try to) Grow Up\n",
      "Fiat Chrysler Revises Sales Data Lower After Doubts Raised\n",
      "The World’s Coolest, Most Cultured New Malls\n",
      "Cooking Club: Introducing Times Insider’s New Cooking Club: The Gray Ladle\n",
      "On the Great Neck Peninsula, a Rich Blend of Many Cultures\n",
      "Search for Homes for Sale or Rent\n",
      "Sell Your Home\n"
     ]
    }
   ],
   "source": [
    "from bs4 import BeautifulSoup\n",
    "import urllib2\n",
    "import re\n",
    "\n",
    "url = 'http://www.nytimes.com/'\n",
    "html = urllib2.urlopen(url)\n",
    "soup = BeautifulSoup(html,\"lxml\")\n",
    "my_search = soup.find_all(re.compile(\"h\"),class_=re.compile(\"story-heading\"))\n",
    "headlines=[]\n",
    "\n",
    "for link in my_search:\n",
    "    try:\n",
    "        if link.string == None:\n",
    "            pass\n",
    "        else:\n",
    "            print link.string.strip()\n",
    "    except:\n",
    "        pass"
   ]
  },
  {
   "cell_type": "code",
   "execution_count": null,
   "metadata": {
    "collapsed": true
   },
   "outputs": [],
   "source": []
  }
 ],
 "metadata": {
  "kernelspec": {
   "display_name": "Python 2",
   "language": "python",
   "name": "python2"
  },
  "language_info": {
   "codemirror_mode": {
    "name": "ipython",
    "version": 2
   },
   "file_extension": ".py",
   "mimetype": "text/x-python",
   "name": "python",
   "nbconvert_exporter": "python",
   "pygments_lexer": "ipython2",
   "version": "2.7.10"
  }
 },
 "nbformat": 4,
 "nbformat_minor": 0
}
